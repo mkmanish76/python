{
  "nbformat": 4,
  "nbformat_minor": 0,
  "metadata": {
    "colab": {
      "provenance": [],
      "authorship_tag": "ABX9TyMstkG7vQtk1TT0PhkNC+vL",
      "include_colab_link": true
    },
    "kernelspec": {
      "name": "python3",
      "display_name": "Python 3"
    },
    "language_info": {
      "name": "python"
    }
  },
  "cells": [
    {
      "cell_type": "markdown",
      "metadata": {
        "id": "view-in-github",
        "colab_type": "text"
      },
      "source": [
        "<a href=\"https://colab.research.google.com/github/mkmanish76/python/blob/main/firstprog.ipynb\" target=\"_parent\"><img src=\"https://colab.research.google.com/assets/colab-badge.svg\" alt=\"Open In Colab\"/></a>"
      ]
    },
    {
      "cell_type": "code",
      "source": [
        "X = 60\n",
        "Y = 48\n",
        "\n",
        "if X > Y:\n",
        "    small = Y\n",
        "else:\n",
        "    small = X\n",
        "\n",
        "for i in range(1, small + 1):\n",
        "    # Indented this line to be part of the for loop\n",
        "    if (X % i == 0) and (Y % i == 0):\n",
        "        gcd = i\n",
        "print(\"The gcd of 60 and 48 is :\", gcd) # Also indented for readability"
      ],
      "metadata": {
        "colab": {
          "base_uri": "https://localhost:8080/"
        },
        "id": "wXrwOMP5CdhH",
        "outputId": "b1e21a27-f59e-4592-b644-c226bc0ea4dc"
      },
      "execution_count": null,
      "outputs": [
        {
          "output_type": "stream",
          "name": "stdout",
          "text": [
            "The gcd of 60 and 48 is : 12\n"
          ]
        }
      ]
    },
    {
      "cell_type": "code",
      "source": [],
      "metadata": {
        "colab": {
          "base_uri": "https://localhost:8080/"
        },
        "collapsed": true,
        "id": "2u_HEUTFxTZ_",
        "outputId": "8f6f4c4b-7ba1-4d37-91ef-8c990bc05287"
      },
      "execution_count": 5,
      "outputs": [
        {
          "output_type": "stream",
          "name": "stdout",
          "text": [
            "Enter first number:10\n",
            "Enter second number:2\n",
            "12\n",
            "8\n",
            "20\n",
            "5.0\n"
          ]
        }
      ]
    },
    {
      "cell_type": "code",
      "source": [
        "P=int(input(\"Enter the value of P:\"))\n",
        "R=int(input(\"Enter the value of R:\"))\n",
        "T=int(input(\"Enter the value of T:\"))\n",
        "SI=(P*R*T)/100\n",
        "print(SI)"
      ],
      "metadata": {
        "colab": {
          "base_uri": "https://localhost:8080/"
        },
        "id": "NTMVEtP60gVe",
        "outputId": "cd56baae-bd2a-4212-f685-5cbb8087e197"
      },
      "execution_count": 6,
      "outputs": [
        {
          "output_type": "stream",
          "name": "stdout",
          "text": [
            "Enter the value of P:50\n",
            "Enter the value of R:20\n",
            "Enter the value of T:30\n",
            "300.0\n"
          ]
        }
      ]
    },
    {
      "source": [
        "a = int(input(\"Enter first number:\"))\n",
        "b = int(input(\"Enter second number:\"))\n",
        "sum = a + b\n",
        "sub = a - b\n",
        "multiply = a * b\n",
        "divide = a / b\n",
        "print(sum)\n",
        "print(sub)\n",
        "print(multiply)\n",
        "print(divide)"
      ],
      "cell_type": "code",
      "metadata": {
        "id": "q0fbArGKzSzM"
      },
      "execution_count": null,
      "outputs": []
    }
  ]
}